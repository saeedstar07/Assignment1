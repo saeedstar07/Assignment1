{
 "cells": [
  {
   "cell_type": "code",
   "execution_count": 1,
   "id": "7e540631",
   "metadata": {},
   "outputs": [],
   "source": [
    "ages = [19, 22, 19, 24, 20, 25, 26, 24, 25, 24]"
   ]
  },
  {
   "cell_type": "code",
   "execution_count": 3,
   "id": "78537c64",
   "metadata": {},
   "outputs": [
    {
     "name": "stdout",
     "output_type": "stream",
     "text": [
      "[19, 19, 20, 22, 24, 24, 24, 25, 25, 26]\n"
     ]
    }
   ],
   "source": [
    "# Sorting the ages dataframe\n",
    "ages.sort()\n",
    "print(ages)\n"
   ]
  },
  {
   "cell_type": "code",
   "execution_count": 5,
   "id": "4f1497e4",
   "metadata": {},
   "outputs": [
    {
     "name": "stdout",
     "output_type": "stream",
     "text": [
      "19\n",
      "26\n"
     ]
    }
   ],
   "source": [
    "# Finding minimum and maximum for ages dataframe\n",
    "print(min(ages))\n",
    "print(max(ages))"
   ]
  },
  {
   "cell_type": "code",
   "execution_count": 6,
   "id": "69ef2255",
   "metadata": {},
   "outputs": [],
   "source": [
    "# Adding mimimum and maximum again in the ages dataframe\n",
    "ages = [19, 19, 19, 20, 22, 24, 24, 24, 25, 25, 26, 26]"
   ]
  },
  {
   "cell_type": "code",
   "execution_count": 10,
   "id": "1b60bcad",
   "metadata": {},
   "outputs": [
    {
     "name": "stdout",
     "output_type": "stream",
     "text": [
      "24.0\n"
     ]
    }
   ],
   "source": [
    "# Median age\n",
    "import statistics as stats\n",
    "print(stats.median(ages))"
   ]
  },
  {
   "cell_type": "code",
   "execution_count": 11,
   "id": "61950883",
   "metadata": {},
   "outputs": [
    {
     "name": "stdout",
     "output_type": "stream",
     "text": [
      "22.75\n"
     ]
    }
   ],
   "source": [
    "print(stats.mean(ages))"
   ]
  },
  {
   "cell_type": "code",
   "execution_count": 12,
   "id": "35beedee",
   "metadata": {},
   "outputs": [
    {
     "name": "stdout",
     "output_type": "stream",
     "text": [
      "7\n"
     ]
    }
   ],
   "source": [
    "print(max(ages)-min(ages))"
   ]
  },
  {
   "cell_type": "code",
   "execution_count": 15,
   "id": "a1a68672",
   "metadata": {},
   "outputs": [],
   "source": [
    "dog = {'name', 'color', 'breed', 'legs', 'age'}"
   ]
  },
  {
   "cell_type": "code",
   "execution_count": 36,
   "id": "0cf0a4b0",
   "metadata": {},
   "outputs": [
    {
     "data": {
      "text/plain": [
       "{'first_name': 'Saeed',\n",
       " 'last_name': 'Akbari',\n",
       " 'gender': 'Male',\n",
       " 'age': '27',\n",
       " 'marital status': 'Single',\n",
       " 'skills': 'Python',\n",
       " 'country': 'USA',\n",
       " 'city': 'Warrensburg',\n",
       " 'address': 'xyz'}"
      ]
     },
     "execution_count": 36,
     "metadata": {},
     "output_type": "execute_result"
    }
   ],
   "source": [
    "student = {'first_name':'Saeed', 'last_name':'Akbari', 'gender':'Male', 'age': '27', 'marital status': 'Single',\n",
    "'skills':'Python', 'country': 'USA', 'city':'Warrensburg', 'address':'xyz'}\n",
    "student"
   ]
  },
  {
   "cell_type": "code",
   "execution_count": 25,
   "id": "fdf55946",
   "metadata": {},
   "outputs": [
    {
     "data": {
      "text/plain": [
       "9"
      ]
     },
     "execution_count": 25,
     "metadata": {},
     "output_type": "execute_result"
    }
   ],
   "source": [
    "len(student)"
   ]
  },
  {
   "cell_type": "code",
   "execution_count": 38,
   "id": "e0213b69",
   "metadata": {},
   "outputs": [
    {
     "data": {
      "text/plain": [
       "'Python'"
      ]
     },
     "execution_count": 38,
     "metadata": {},
     "output_type": "execute_result"
    }
   ],
   "source": [
    "student['skills']"
   ]
  },
  {
   "cell_type": "code",
   "execution_count": 39,
   "id": "fde173d2",
   "metadata": {},
   "outputs": [
    {
     "name": "stdout",
     "output_type": "stream",
     "text": [
      "<class 'str'>\n"
     ]
    }
   ],
   "source": [
    "print(type('skills'))"
   ]
  },
  {
   "cell_type": "code",
   "execution_count": 41,
   "id": "68052280",
   "metadata": {},
   "outputs": [
    {
     "data": {
      "text/plain": [
       "'Python, R, Java'"
      ]
     },
     "execution_count": 41,
     "metadata": {},
     "output_type": "execute_result"
    }
   ],
   "source": [
    "student = {'first_name':'Saeed', 'last_name':'Akbari', 'gender':'Male', 'age': '27', 'marital status': 'Single',\n",
    "'skills':'Python, R, Java', 'country': 'USA', 'city':'Warrensburg', 'address':'xyz'}\n",
    "student\n",
    "student['skills']"
   ]
  },
  {
   "cell_type": "code",
   "execution_count": 42,
   "id": "34154be3",
   "metadata": {},
   "outputs": [
    {
     "name": "stdout",
     "output_type": "stream",
     "text": [
      "dict_keys(['first_name', 'last_name', 'gender', 'age', 'marital status', 'skills', 'country', 'city', 'address'])\n"
     ]
    }
   ],
   "source": [
    "print(student.keys())"
   ]
  },
  {
   "cell_type": "code",
   "execution_count": 43,
   "id": "b5b8f117",
   "metadata": {},
   "outputs": [
    {
     "name": "stdout",
     "output_type": "stream",
     "text": [
      "dict_values(['Saeed', 'Akbari', 'Male', '27', 'Single', 'Python, R, Java', 'USA', 'Warrensburg', 'xyz'])\n"
     ]
    }
   ],
   "source": [
    "print(student.values())"
   ]
  },
  {
   "cell_type": "code",
   "execution_count": 52,
   "id": "af7ba95c",
   "metadata": {},
   "outputs": [],
   "source": [
    "tuple = ('Maryam', 'Safa', 'Miqdad')"
   ]
  },
  {
   "cell_type": "code",
   "execution_count": 55,
   "id": "69cf2afe",
   "metadata": {},
   "outputs": [
    {
     "data": {
      "text/plain": [
       "('Maryam', 'Safa', 'Miqdad')"
      ]
     },
     "execution_count": 55,
     "metadata": {},
     "output_type": "execute_result"
    }
   ],
   "source": [
    "siblings = tuple\n",
    "siblings"
   ]
  },
  {
   "cell_type": "code",
   "execution_count": 60,
   "id": "27a95975",
   "metadata": {},
   "outputs": [
    {
     "name": "stdout",
     "output_type": "stream",
     "text": [
      "1\n",
      "1\n",
      "1\n"
     ]
    }
   ],
   "source": [
    "print(siblings.count('Maryam'))\n",
    "print(siblings.count('Safa'))\n",
    "print(siblings.count('Miqdad'))\n",
    "\n"
   ]
  },
  {
   "cell_type": "code",
   "execution_count": 61,
   "id": "014d3835",
   "metadata": {},
   "outputs": [
    {
     "name": "stdout",
     "output_type": "stream",
     "text": [
      "3\n"
     ]
    }
   ],
   "source": [
    "print(1+1+1)"
   ]
  },
  {
   "cell_type": "code",
   "execution_count": 63,
   "id": "cc905556",
   "metadata": {},
   "outputs": [],
   "source": [
    "siblings = ('Maryam', 'Safa', 'Miqdad', 'Fatima', 'Jamil')\n",
    "family_members = siblings"
   ]
  },
  {
   "cell_type": "code",
   "execution_count": 64,
   "id": "be09f056",
   "metadata": {},
   "outputs": [],
   "source": [
    "it_companies = {'Facebook', 'Google', 'Microsoft', 'Apple', 'IBM', 'Oracle', 'Amazon'}\n",
    "A = {19, 22, 24, 20, 25, 26}\n",
    "B = {19, 22, 20, 25, 26, 24, 28, 27}\n",
    "age = [22, 19, 24, 25, 26, 24, 25, 24]\n"
   ]
  },
  {
   "cell_type": "code",
   "execution_count": 65,
   "id": "52aec48a",
   "metadata": {},
   "outputs": [
    {
     "data": {
      "text/plain": [
       "7"
      ]
     },
     "execution_count": 65,
     "metadata": {},
     "output_type": "execute_result"
    }
   ],
   "source": [
    "len(it_companies)"
   ]
  },
  {
   "cell_type": "code",
   "execution_count": 74,
   "id": "9737ec3f",
   "metadata": {},
   "outputs": [
    {
     "data": {
      "text/plain": [
       "{'Amazon',\n",
       " 'Apple',\n",
       " 'Facebook',\n",
       " 'Google',\n",
       " 'IBM',\n",
       " 'Micron',\n",
       " 'Microsoft',\n",
       " 'Nvidia',\n",
       " 'Oracle',\n",
       " 'Twitter'}"
      ]
     },
     "execution_count": 74,
     "metadata": {},
     "output_type": "execute_result"
    }
   ],
   "source": [
    "it_companies = {'Facebook', 'Google', 'Microsoft', 'Apple', 'IBM', 'Oracle', 'Amazon'}\n",
    "it_companies.add('Twitter')\n",
    "it_companies.update(['Micron','AMD','Nvidia'])\n",
    "it_companies.remove('AMD')\n",
    "it_companies"
   ]
  },
  {
   "cell_type": "code",
   "execution_count": 83,
   "id": "1a4d9235",
   "metadata": {},
   "outputs": [
    {
     "name": "stdout",
     "output_type": "stream",
     "text": [
      "{19, 20, 22, 24, 25, 26, 27, 28}\n"
     ]
    }
   ],
   "source": [
    "print(A.union(B))"
   ]
  },
  {
   "cell_type": "code",
   "execution_count": 84,
   "id": "5b4d0c2c",
   "metadata": {},
   "outputs": [
    {
     "name": "stdout",
     "output_type": "stream",
     "text": [
      "{19, 20, 22, 24, 25, 26}\n"
     ]
    }
   ],
   "source": [
    "print(A.intersection(B))"
   ]
  },
  {
   "cell_type": "code",
   "execution_count": 85,
   "id": "b5c61732",
   "metadata": {},
   "outputs": [
    {
     "name": "stdout",
     "output_type": "stream",
     "text": [
      "True\n"
     ]
    }
   ],
   "source": [
    "print(A.issubset(B))"
   ]
  },
  {
   "cell_type": "code",
   "execution_count": 86,
   "id": "f864d68c",
   "metadata": {},
   "outputs": [
    {
     "name": "stdout",
     "output_type": "stream",
     "text": [
      "False\n"
     ]
    }
   ],
   "source": [
    "print(A.isdisjoint(B))"
   ]
  },
  {
   "cell_type": "code",
   "execution_count": null,
   "id": "f6dc9d32",
   "metadata": {},
   "outputs": [],
   "source": []
  },
  {
   "cell_type": "code",
   "execution_count": 88,
   "id": "5ef58519",
   "metadata": {},
   "outputs": [
    {
     "name": "stdout",
     "output_type": "stream",
     "text": [
      "{27, 28}\n"
     ]
    }
   ],
   "source": [
    "print(A^B)"
   ]
  },
  {
   "cell_type": "code",
   "execution_count": 91,
   "id": "7f56a0ff",
   "metadata": {},
   "outputs": [],
   "source": [
    "del (A)\n",
    "del (B)"
   ]
  },
  {
   "cell_type": "code",
   "execution_count": 92,
   "id": "967866e1",
   "metadata": {},
   "outputs": [
    {
     "data": {
      "text/plain": [
       "12"
      ]
     },
     "execution_count": 92,
     "metadata": {},
     "output_type": "execute_result"
    }
   ],
   "source": [
    "len(ages)"
   ]
  },
  {
   "cell_type": "code",
   "execution_count": 94,
   "id": "fa71639d",
   "metadata": {},
   "outputs": [
    {
     "data": {
      "text/plain": [
       "{19, 20, 22, 24, 25, 26}"
      ]
     },
     "execution_count": 94,
     "metadata": {},
     "output_type": "execute_result"
    }
   ],
   "source": [
    "ages = set(ages)\n",
    "ages"
   ]
  },
  {
   "cell_type": "code",
   "execution_count": 95,
   "id": "94187688",
   "metadata": {},
   "outputs": [
    {
     "data": {
      "text/plain": [
       "6"
      ]
     },
     "execution_count": 95,
     "metadata": {},
     "output_type": "execute_result"
    }
   ],
   "source": [
    "len(ages)"
   ]
  },
  {
   "cell_type": "code",
   "execution_count": 96,
   "id": "59141692",
   "metadata": {},
   "outputs": [
    {
     "name": "stdout",
     "output_type": "stream",
     "text": [
      "2826.0\n"
     ]
    }
   ],
   "source": [
    "_area_of_circle_ = 3.14*30**2\n",
    "print(_area_of_circle_)"
   ]
  },
  {
   "cell_type": "code",
   "execution_count": 97,
   "id": "c731ebec",
   "metadata": {},
   "outputs": [
    {
     "name": "stdout",
     "output_type": "stream",
     "text": [
      "188.4\n"
     ]
    }
   ],
   "source": [
    "_circum_of_circle_ = 2*3.14*30\n",
    "print(_circum_of_circle_)"
   ]
  },
  {
   "cell_type": "code",
   "execution_count": 99,
   "id": "caaeecea",
   "metadata": {},
   "outputs": [
    {
     "name": "stdout",
     "output_type": "stream",
     "text": [
      "radius: 30\n",
      "area 30.02826.0\n"
     ]
    }
   ],
   "source": [
    "r = float(input (\"radius: \"))\n",
    "print (\"area \" + str(r)  + str(3.14* r**2))\n"
   ]
  },
  {
   "cell_type": "code",
   "execution_count": 100,
   "id": "4cc774a3",
   "metadata": {},
   "outputs": [
    {
     "name": "stdout",
     "output_type": "stream",
     "text": [
      "Enter String: I am a teacher and I love to inspire and teach people\n",
      "{'I', 'a', 'teacher', 'and', 'to', 'love', 'am', 'teach', 'people', 'inspire'}\n"
     ]
    }
   ],
   "source": [
    "str = input(\"Enter String: \").split()\n",
    "print(set(str))"
   ]
  },
  {
   "cell_type": "code",
   "execution_count": 109,
   "id": "7db96018",
   "metadata": {},
   "outputs": [
    {
     "name": "stdout",
     "output_type": "stream",
     "text": [
      "Asabeneh\n",
      "250\n",
      "Finland\n",
      "Helsinki\n"
     ]
    }
   ],
   "source": [
    "Name = 'Asabeneh'\n",
    "Age = 250\n",
    "Country = 'Finland'\n",
    "City = 'Helsinki'\n",
    "print(Name)\n",
    "print(Age)\n",
    "print(Country)\n",
    "print(City)"
   ]
  },
  {
   "cell_type": "code",
   "execution_count": 113,
   "id": "49f6d6ec",
   "metadata": {},
   "outputs": [
    {
     "name": "stdout",
     "output_type": "stream",
     "text": [
      "Area of a circle with radius 10 is 314.0 meters square\n"
     ]
    }
   ],
   "source": [
    "radius = 10                                 \n",
    "area = 3.14 * radius ** 2         \n",
    "print('Area of a circle with radius', radius, 'is', area, 'meters square')"
   ]
  },
  {
   "cell_type": "code",
   "execution_count": null,
   "id": "16c7fd96",
   "metadata": {},
   "outputs": [],
   "source": [
    "pound = int(input(\"Enter pound: \"))\n",
    "kg = 0.453592*pound\n",
    "print(pound, 'is', kg, 'kg')\n"
   ]
  }
 ],
 "metadata": {
  "kernelspec": {
   "display_name": "Python 3 (ipykernel)",
   "language": "python",
   "name": "python3"
  },
  "language_info": {
   "codemirror_mode": {
    "name": "ipython",
    "version": 3
   },
   "file_extension": ".py",
   "mimetype": "text/x-python",
   "name": "python",
   "nbconvert_exporter": "python",
   "pygments_lexer": "ipython3",
   "version": "3.9.13"
  }
 },
 "nbformat": 4,
 "nbformat_minor": 5
}
